{
 "cells": [
  {
   "cell_type": "markdown",
   "metadata": {},
   "source": [
    "# GUV Demo 3.2: IOT scenario - Partner/Producer - configure and create data\n",
    "\n",
    "1. Imports\n",
    "2. Define variables\n",
    "3. Get access to universe\n",
    "4. Configure universe\n",
    "5. Create external workcenter\n",
    "6. Create a relation between existing person and new workcenter\n",
    "7. Create a power consumption activity for the workcenter"
   ]
  },
  {
   "cell_type": "markdown",
   "metadata": {},
   "source": [
    "#### 1. Imports"
   ]
  },
  {
   "cell_type": "code",
   "execution_count": null,
   "metadata": {},
   "outputs": [],
   "source": [
    "# import libraries \n",
    "import os\n",
    "import random\n",
    "import datetime as dt\n",
    "from dotenv import load_dotenv\n",
    "from guvcli import GUV\n"
   ]
  },
  {
   "cell_type": "markdown",
   "metadata": {},
   "source": [
    "#### 2. Variables"
   ]
  },
  {
   "cell_type": "code",
   "execution_count": null,
   "metadata": {},
   "outputs": [],
   "source": [
    "# prepare \n",
    "load_dotenv()\n",
    "\n",
    "GUV_ENDPOINT        = os.getenv(\"GUV_ENDPOINT\")\n",
    "GUV_UNIVERSE        = os.getenv(\"GUV_UNIVERSE\")\n",
    "\n",
    "PERSON_TYPE         = \"Person\"\n",
    "PERSON_KEY          = \"0000000021\"\n",
    "\n",
    "WORKCENTER_TYPE     = \"Workcenter\"\n",
    "WORKCENTER_TEXT     = \"Arbeitsplatz\"\n",
    "WORKCENTER_COUNT    = 10\n",
    "\n",
    "ACTIVITY_TYPE       = \"WorkcenterPowerConsumption\"\n",
    "RELATION_TYPE       = \"isWorkcenterResponsible\""
   ]
  },
  {
   "cell_type": "markdown",
   "metadata": {},
   "source": [
    "#### 3. Get access to universe"
   ]
  },
  {
   "cell_type": "code",
   "execution_count": null,
   "metadata": {},
   "outputs": [],
   "source": [
    "# prepare universe access\n",
    "connector = GUV.connect(GUV_ENDPOINT, GUV_UNIVERSE)\n",
    "if connector.is_valid():\n",
    "    print(\"GUV connected: \", connector.info())\n",
    "else:\n",
    "    print(\"GUV connection failed\")"
   ]
  },
  {
   "cell_type": "markdown",
   "metadata": {},
   "source": [
    "#### 4. Configure universe\n",
    "Create some new types if not exists."
   ]
  },
  {
   "cell_type": "code",
   "execution_count": null,
   "metadata": {},
   "outputs": [],
   "source": [
    "# create a new object type and create objects\n",
    "tobj_wc = connector.object_types().create_object_type({\n",
    "    \"key\": \"Workcenter\",\n",
    "    \"title\": \"Arbeitsplatz\"\n",
    "})\n",
    "\n",
    "print(f\"Created Workcenter Type: {tobj_wc}\")\n",
    "\n",
    "# create relation type\n",
    "trel_wc_resp = connector.relation_types().create_relation_type({\n",
    "    \"key\": RELATION_TYPE,\n",
    "    \"title\": \"Arbeitplatz - Verantwortlicher\",\n",
    "    \"title_outbound\": \"ist verantwortlich für den Arbeitsplatz\",\n",
    "    \"title_inbound\": \"hat Arbeitsplatzverantwortliche\",\n",
    "})\n",
    "print(f\"Created relation type: {trel_wc_resp}\")\n",
    "\n",
    "# create relation type \n",
    "tact_power = connector.activity_types().create_activity_type({\n",
    "    \"key\": ACTIVITY_TYPE,\n",
    "    \"title\": \"Arbeitplatz - Stromverbrauch\",\n",
    "    \"value_unit\": \"KWh\"\n",
    "})\n",
    "print(f\"Created activity type: {tact_power}\")"
   ]
  },
  {
   "cell_type": "markdown",
   "metadata": {},
   "source": [
    "#### 5. Create external workcenters"
   ]
  },
  {
   "cell_type": "code",
   "execution_count": null,
   "metadata": {},
   "outputs": [],
   "source": [
    "workcenter_mgr = connector.objects(WORKCENTER_TYPE)\n",
    "for index in range(10):\n",
    "    workcenter_inst = workcenter_mgr.create_object({\n",
    "      \"key\": f\"wc{index}\",\n",
    "      \"title\": f\"{WORKCENTER_TEXT} {index}\"\n",
    "\n",
    "    })\n",
    "    print(f\"Created Workcenter for index {index}: {workcenter_inst}\")"
   ]
  },
  {
   "cell_type": "markdown",
   "metadata": {},
   "source": [
    "#### 6. Create a relation between existing person and new workcenter"
   ]
  },
  {
   "cell_type": "code",
   "execution_count": null,
   "metadata": {},
   "outputs": [],
   "source": [
    "# get a focused workcenter\n",
    "wc_focus = workcenter_mgr.get_record_by_key(\"wc1\")\n",
    "print(f\"Focused Workcenter: {wc_focus}\")\n",
    "\n",
    "# get a focused person\n",
    "person_mgr = connector.objects(PERSON_TYPE)\n",
    "person_focus = person_mgr.get_record_by_key(PERSON_KEY)\n",
    "print(f\"Focused Person: {person_focus}\")\n",
    "\n",
    "# create a new relation between person and focused workcenter\n",
    "irel_rec = connector.relation_types().create_relation_for(\n",
    "    type_key=RELATION_TYPE,\n",
    "    source=person_focus,\n",
    "    target=wc_focus,\n",
    "    data={\n",
    "        \"key\": f\"{person_focus.get_value_key()}-{wc_focus.get_value_key()}\",\n",
    "        \"title\": f\"created from python: {person_focus.get_value_title()} --> {wc_focus.get_value_title()}\"\n",
    "    }\n",
    ")\n",
    "print(\"IREL created: \", irel_rec)"
   ]
  },
  {
   "cell_type": "markdown",
   "metadata": {},
   "source": [
    "#### 7. Create a power consumption activity"
   ]
  },
  {
   "cell_type": "code",
   "execution_count": null,
   "metadata": {},
   "outputs": [],
   "source": [
    "# create a new power consumption for focused workcenter\n",
    "used_power = random.randint(1,50)\n",
    "time_to    = dt.datetime.now()\n",
    "time_from  = time_to - dt.timedelta(minutes=30) \n",
    "\n",
    "iact_rec = connector.activity_types().create_activity_for(ACTIVITY_TYPE, wc_focus, {\n",
    "        \"key\": f\"python-demo-{time_to.isoformat()}\",\n",
    "        \"title\": f\"Stromverbrauch {used_power} KWh\",\n",
    "        \"value\": used_power,\n",
    "        \"started_at\": time_from.isoformat(),\n",
    "        \"finished_at\": time_to.isoformat()\n",
    "    })\n",
    "print(\"IACT created: \", iact_rec)"
   ]
  }
 ],
 "metadata": {
  "kernelspec": {
   "display_name": ".venv",
   "language": "python",
   "name": "python3"
  },
  "language_info": {
   "codemirror_mode": {
    "name": "ipython",
    "version": 3
   },
   "file_extension": ".py",
   "mimetype": "text/x-python",
   "name": "python",
   "nbconvert_exporter": "python",
   "pygments_lexer": "ipython3",
   "version": "3.12.1"
  }
 },
 "nbformat": 4,
 "nbformat_minor": 2
}
