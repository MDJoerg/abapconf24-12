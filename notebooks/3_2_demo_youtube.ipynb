{
 "cells": [
  {
   "cell_type": "markdown",
   "metadata": {},
   "source": [
    "# Demo Load from Youtube and forward to Graph Universe"
   ]
  },
  {
   "cell_type": "code",
   "execution_count": null,
   "metadata": {},
   "outputs": [],
   "source": [
    "# imports\n",
    "from pytube import YouTube, Playlist, Channel\n",
    "from youtube_transcript_api import YouTubeTranscriptApi\n",
    "from langchain_community.document_loaders import YoutubeLoader\n"
   ]
  },
  {
   "cell_type": "code",
   "execution_count": null,
   "metadata": {},
   "outputs": [],
   "source": [
    "# load playlist\n",
    "playlist = Playlist(\"https://www.youtube.com/watch?v=GUh7QyCwxGk&list=PL6RpkC85SLQCGjMBsoQYlMrLmbZaEWM6U\")\n",
    "print(playlist)\n",
    "playlist.owner\n"
   ]
  },
  {
   "cell_type": "code",
   "execution_count": null,
   "metadata": {},
   "outputs": [],
   "source": [
    "# loop playlist\n",
    "max = 2\n",
    "cur = 0\n",
    "for video_url in playlist:\n",
    "    cur+=1\n",
    "    if cur > max:\n",
    "        break\n",
    "\n",
    "    print(video_url)\n",
    "    \n",
    "    yt = YouTube(video_url)\n",
    "    print(yt.thumbnail_url)\n",
    "    print(yt.metadata)\n",
    "    \n",
    "    loader = YoutubeLoader.from_youtube_url(\n",
    "                    youtube_url=video_url, \n",
    "                    add_video_info=False,\n",
    "                    language=[\"en\", \"de\"],\n",
    "                    translation=\"en\",                    \n",
    "                    #transcript_format=TranscriptFormat.CHUNKS,\n",
    "                    #chunk_size_seconds=30, \n",
    "                )\n",
    "    documents = loader.load()\n",
    "    print(documents)       \n"
   ]
  }
 ],
 "metadata": {
  "kernelspec": {
   "display_name": ".venv",
   "language": "python",
   "name": "python3"
  },
  "language_info": {
   "codemirror_mode": {
    "name": "ipython",
    "version": 3
   },
   "file_extension": ".py",
   "mimetype": "text/x-python",
   "name": "python",
   "nbconvert_exporter": "python",
   "pygments_lexer": "ipython3",
   "version": "3.12.1"
  }
 },
 "nbformat": 4,
 "nbformat_minor": 2
}
