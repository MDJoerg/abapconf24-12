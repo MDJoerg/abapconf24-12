{
 "cells": [
  {
   "cell_type": "markdown",
   "metadata": {},
   "source": [
    "# GUV Demo 3.1: Consumer - Read objects from graph universe\n",
    "\n",
    "1. Imports\n",
    "2. Define variables\n",
    "3. Get access to universe\n",
    "4. Get and display a list for an object type"
   ]
  },
  {
   "cell_type": "markdown",
   "metadata": {},
   "source": [
    "#### 1. Imports"
   ]
  },
  {
   "cell_type": "code",
   "execution_count": null,
   "metadata": {},
   "outputs": [],
   "source": [
    "# import libraries \n",
    "import os\n",
    "import random\n",
    "import datetime as dt\n",
    "from dotenv import load_dotenv\n",
    "from guvcli import GUV\n"
   ]
  },
  {
   "cell_type": "markdown",
   "metadata": {},
   "source": [
    "#### 2. Define variables"
   ]
  },
  {
   "cell_type": "code",
   "execution_count": null,
   "metadata": {},
   "outputs": [],
   "source": [
    "# prepare \n",
    "load_dotenv()\n",
    "\n",
    "GUV_ENDPOINT        = os.getenv(\"GUV_ENDPOINT\")\n",
    "GUV_UNIVERSE        = os.getenv(\"GUV_UNIVERSE\")\n",
    "\n",
    "PERSON_TYPE         = \"Person\""
   ]
  },
  {
   "cell_type": "markdown",
   "metadata": {},
   "source": [
    "#### 3. Get access to universe"
   ]
  },
  {
   "cell_type": "code",
   "execution_count": null,
   "metadata": {},
   "outputs": [],
   "source": [
    "# prepare universe access\n",
    "\n",
    "connector = GUV.connect(GUV_ENDPOINT, GUV_UNIVERSE)\n",
    "if connector.is_valid():\n",
    "    print(\"GUV connected: \", connector.info())\n",
    "else:\n",
    "    print(\"GUV connection failed\")"
   ]
  },
  {
   "cell_type": "markdown",
   "metadata": {},
   "source": [
    "#### 4. Get and display a list for an object type"
   ]
  },
  {
   "cell_type": "code",
   "execution_count": null,
   "metadata": {},
   "outputs": [],
   "source": [
    "# get list of object type Person\n",
    "person_mgr = connector.objects(PERSON_TYPE)\n",
    "person_recs = person_mgr.get_records()\n",
    "\n",
    "print(f\"Selected persons: {len(person_recs)}\\n{person_recs}\")\n",
    "for person in person_recs:\n",
    "    print(person)"
   ]
  }
 ],
 "metadata": {
  "kernelspec": {
   "display_name": ".venv",
   "language": "python",
   "name": "python3"
  },
  "language_info": {
   "codemirror_mode": {
    "name": "ipython",
    "version": 3
   },
   "file_extension": ".py",
   "mimetype": "text/x-python",
   "name": "python",
   "nbconvert_exporter": "python",
   "pygments_lexer": "ipython3",
   "version": "3.12.1"
  }
 },
 "nbformat": 4,
 "nbformat_minor": 2
}
