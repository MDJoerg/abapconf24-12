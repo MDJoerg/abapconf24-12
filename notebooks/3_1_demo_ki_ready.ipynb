{
 "cells": [
  {
   "cell_type": "markdown",
   "metadata": {},
   "source": [
    "# GUV Demo 3.1: Get AI ready info\n",
    "\n",
    "1. Imports\n",
    "2. Define variables\n",
    "3. Get access to universe\n",
    "4. Get material and display embedding document"
   ]
  },
  {
   "cell_type": "markdown",
   "metadata": {},
   "source": [
    "#### 1. Imports"
   ]
  },
  {
   "cell_type": "code",
   "execution_count": null,
   "metadata": {},
   "outputs": [],
   "source": [
    "# import libraries \n",
    "import os\n",
    "from dotenv import load_dotenv\n",
    "from guvcli import GUV\n",
    "from IPython.display import display, Markdown\n"
   ]
  },
  {
   "cell_type": "markdown",
   "metadata": {},
   "source": [
    "#### 2. Define variables"
   ]
  },
  {
   "cell_type": "code",
   "execution_count": null,
   "metadata": {},
   "outputs": [],
   "source": [
    "# prepare \n",
    "load_dotenv()\n",
    "\n",
    "GUV_ENDPOINT        = os.getenv(\"GUV_ENDPOINT\")\n",
    "GUV_UNIVERSE        = os.getenv(\"GUV_UNIVERSE\")\n",
    "\n",
    "MATERIAL_TYPE       = \"SAP_TABL_MARA\"\n",
    "MATERIAL_KEY        = \"BA10001\""
   ]
  },
  {
   "cell_type": "markdown",
   "metadata": {},
   "source": [
    "#### 3. Get access to universe"
   ]
  },
  {
   "cell_type": "code",
   "execution_count": null,
   "metadata": {},
   "outputs": [],
   "source": [
    "# prepare universe access\n",
    "\n",
    "connector = GUV.connect(GUV_ENDPOINT, GUV_UNIVERSE)\n",
    "if connector.is_valid():\n",
    "    print(\"GUV connected: \", connector.info())\n",
    "else:\n",
    "    print(\"GUV connection failed\")"
   ]
  },
  {
   "cell_type": "markdown",
   "metadata": {},
   "source": [
    "#### 4. Get material and display embedding document"
   ]
  },
  {
   "cell_type": "code",
   "execution_count": null,
   "metadata": {},
   "outputs": [],
   "source": [
    "# get material\n",
    "material_mgr = connector.objects(MATERIAL_TYPE)\n",
    "material = material_mgr.get_record_by_key(MATERIAL_KEY)\n",
    "print(material)\n",
    "\n",
    "# get embedding and display in markdown format\n",
    "emb_doc = material.get(\"emb_document\", \"(empty)\")\n",
    "display(Markdown(emb_doc.replace(\"\\\\n\", \"\\n\")))"
   ]
  }
 ],
 "metadata": {
  "kernelspec": {
   "display_name": ".venv",
   "language": "python",
   "name": "python3"
  },
  "language_info": {
   "codemirror_mode": {
    "name": "ipython",
    "version": 3
   },
   "file_extension": ".py",
   "mimetype": "text/x-python",
   "name": "python",
   "nbconvert_exporter": "python",
   "pygments_lexer": "ipython3",
   "version": "3.12.1"
  }
 },
 "nbformat": 4,
 "nbformat_minor": 2
}
