{
 "cells": [
  {
   "cell_type": "markdown",
   "metadata": {},
   "source": [
    "# Graph Universe Preparation\n",
    "## Prepare environment and select kernel\n",
    "1. Open Terminal\n",
    "2. Create a virtual environment: `python -m venv venv`\n",
    "3. Activate this environment in terminal: `./venv/scripts/activate\n",
    "4. Select this new environment as kernel for your jupyter notebooks\n",
    "5. Start next cell to install required libraries"
   ]
  },
  {
   "cell_type": "code",
   "execution_count": null,
   "metadata": {},
   "outputs": [],
   "source": [
    "# install required python libraries\n",
    "%pip install python-dotenv pytube youtube-transcript-api langchain_community"
   ]
  },
  {
   "cell_type": "markdown",
   "metadata": {},
   "source": [
    "## Prepare GUV access\n",
    "\n",
    "In this step the route to your graph universe envorinment will be prepared.\n",
    "Create an empty .env file. Insert the following lines and change the variables.\n",
    "\n",
    "```env\n",
    "GUV_ENDPOINT=https://your_api_name.your_kyma_cluster.kyma.ondemand.com\n",
    "GUV_UNIVERSE=your_universe_key\n",
    "```\n",
    "\n",
    "Open the other notebooks."
   ]
  }
 ],
 "metadata": {
  "kernelspec": {
   "display_name": ".venv",
   "language": "python",
   "name": "python3"
  },
  "language_info": {
   "codemirror_mode": {
    "name": "ipython",
    "version": 3
   },
   "file_extension": ".py",
   "mimetype": "text/x-python",
   "name": "python",
   "nbconvert_exporter": "python",
   "pygments_lexer": "ipython3",
   "version": "3.12.1"
  }
 },
 "nbformat": 4,
 "nbformat_minor": 2
}
